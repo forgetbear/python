{
 "cells": [
  {
   "cell_type": "markdown",
   "metadata": {},
   "source": [
    "# Pandas for quick data management\n",
    "\n",
    "<img src=\"https://aos.iacpublishinglabs.com/question/aq/1400px-788px/pandas-live_64dff22c2fe56e9.jpg?domain=cx.aos.ask.com\" alt=\"panda1\"  width=\"300\">\n",
    "\n",
    "> *pandas* is an open source, BSD-licensed library providing high-performance, easy-to-use data structures and data analysis tools for the Python programming language. [1](http://pandas.pydata.org/index.html)\n",
    "\n",
    "### Everyone has python installed!!!\n",
    "\n",
    "Which is awesome! Just type into your terminal:\n",
    "\n",
    "    python\n",
    "    \n",
    "You'll see:\n",
    "\n",
    "    >>>\n",
    "    \n",
    "For kicks, type:"
   ]
  },
  {
   "cell_type": "code",
   "execution_count": 2,
   "metadata": {
    "collapsed": false
   },
   "outputs": [
    {
     "data": {
      "text/plain": [
       "2"
      ]
     },
     "execution_count": 2,
     "metadata": {},
     "output_type": "execute_result"
    }
   ],
   "source": [
    "1 + 1 #Then hit return."
   ]
  },
  {
   "cell_type": "markdown",
   "metadata": {},
   "source": [
    "To get confused, try:\n",
    "\n",
    "    5 / 2\n",
    "    \n",
    "To maintain your sanity, try:\n",
    "\n",
    "    5 / 2.0\n",
    "    \n",
    "### Install Pandas\n",
    "If you want to a badass Pandas user. You just need to install it. \n",
    "\n",
    "    pip install pandas\n",
    "\n",
    "[Click here to learn more about installing pandas with `pip`](http://pandas.pydata.org/pandas-docs/stable/install.html#installing-from-pypi). If you don't have `pip` you can [install pip](https://pip.pypa.io/en/stable/installing/). Learn more about the [history of pandas](http://pandas.pydata.org/community.html#history-of-development). \n",
    "\n",
    "### Importing Pandas\n",
    "\n",
    "Standard practice is to `import pandas as pd`. Which is basically to reduce having to type the `pandas` a bunch. You're just importing the pandas library. You can name it whatever you'd like (as long as it doesn't conflict with standard python library names). You could even do:"
   ]
  },
  {
   "cell_type": "code",
   "execution_count": 4,
   "metadata": {
    "collapsed": false
   },
   "outputs": [
    {
     "data": {
      "text/plain": [
       "u'0.18.1'"
      ]
     },
     "execution_count": 4,
     "metadata": {},
     "output_type": "execute_result"
    }
   ],
   "source": [
    "import pandas as cutemammal\n",
    "cutemammal.__version__ #This just prints the version of pandas you are using :) "
   ]
  },
  {
   "cell_type": "markdown",
   "metadata": {},
   "source": [
    "### Pandas IO Tools\n",
    "\n",
    "<p>The pandas I/O API is a set of top level <tt class=\"docutils literal\"><span class=\"pre\">reader</span></tt> functions accessed like <tt class=\"docutils literal\"><span class=\"pre\">pd.read_csv()</span></tt> that generally return a <tt class=\"docutils literal\"><span class=\"pre\">pandas</span></tt>\n",
    "object.</p>\n",
    "<blockquote>\n",
    "<div><ul class=\"simple\">\n",
    "<li><a class=\"reference internal\" href=\"#io-read-csv-table\"><em>read_csv</em></a></li>\n",
    "<li><a class=\"reference internal\" href=\"#io-excel-reader\"><em>read_excel</em></a></li>\n",
    "<li><a class=\"reference internal\" href=\"#io-hdf5\"><em>read_hdf</em></a></li>\n",
    "<li><a class=\"reference internal\" href=\"#io-sql\"><em>read_sql</em></a></li>\n",
    "<li><a class=\"reference internal\" href=\"#io-json-reader\"><em>read_json</em></a></li>\n",
    "<li><a class=\"reference internal\" href=\"#io-msgpack\"><em>read_msgpack</em></a> (experimental)</li>\n",
    "<li><a class=\"reference internal\" href=\"#io-read-html\"><em>read_html</em></a></li>\n",
    "<li><a class=\"reference internal\" href=\"#io-bigquery-reader\"><em>read_gbq</em></a> (experimental)</li>\n",
    "<li><a class=\"reference internal\" href=\"#io-stata-reader\"><em>read_stata</em></a></li>\n",
    "<li><a class=\"reference internal\" href=\"#io-sas-reader\"><em>read_sas</em></a></li>\n",
    "<li><a class=\"reference internal\" href=\"#io-clipboard\"><em>read_clipboard</em></a></li>\n",
    "<li><a class=\"reference internal\" href=\"#io-pickle\"><em>read_pickle</em></a></li>\n",
    "</ul>\n",
    "</div></blockquote>\n",
    "<p>The corresponding <tt class=\"docutils literal\"><span class=\"pre\">writer</span></tt> functions are object methods that are accessed like <tt class=\"docutils literal\"><span class=\"pre\">df.to_csv()</span></tt></p>\n",
    "<blockquote>\n",
    "<div><ul class=\"simple\">\n",
    "<li><a class=\"reference internal\" href=\"#io-store-in-csv\"><em>to_csv</em></a></li>\n",
    "<li><a class=\"reference internal\" href=\"#io-excel-writer\"><em>to_excel</em></a></li>\n",
    "<li><a class=\"reference internal\" href=\"#io-hdf5\"><em>to_hdf</em></a></li>\n",
    "<li><a class=\"reference internal\" href=\"#io-sql\"><em>to_sql</em></a></li>\n",
    "<li><a class=\"reference internal\" href=\"#io-json-writer\"><em>to_json</em></a></li>\n",
    "<li><a class=\"reference internal\" href=\"#io-msgpack\"><em>to_msgpack</em></a> (experimental)</li>\n",
    "<li><a class=\"reference internal\" href=\"#io-html\"><em>to_html</em></a></li>\n",
    "<li><a class=\"reference internal\" href=\"#io-bigquery-writer\"><em>to_gbq</em></a> (experimental)</li>\n",
    "<li><a class=\"reference internal\" href=\"#io-stata-writer\"><em>to_stata</em></a></li>\n",
    "<li><a class=\"reference internal\" href=\"#io-clipboard\"><em>to_clipboard</em></a></li>\n",
    "<li><a class=\"reference internal\" href=\"#io-pickle\"><em>to_pickle</em></a></li>\n",
    "</ul>\n",
    "</div>"
   ]
  },
  {
   "cell_type": "markdown",
   "metadata": {},
   "source": [
    "### Read a CSV"
   ]
  },
  {
   "cell_type": "code",
   "execution_count": 46,
   "metadata": {
    "collapsed": false
   },
   "outputs": [
    {
     "name": "stdout",
     "output_type": "stream",
     "text": [
      "   Unnamed: 0  time  LakeHuron\n",
      "0           1  1875     580.38\n",
      "1           2  1876     581.86\n",
      "2           3  1877     580.97\n",
      "3           4  1878     580.80\n",
      "4           5  1879     579.79\n",
      "5           6  1880     580.39\n",
      "6           7  1881     580.42\n",
      "7           8  1882     580.82\n",
      "8           9  1883     581.40\n",
      "9          10  1884     581.32\n"
     ]
    }
   ],
   "source": [
    "import pandas as pd\n",
    "\n",
    "df = pd.read_csv('https://vincentarelbundock.github.io/Rdatasets/csv/datasets/LakeHuron.csv') #Level of Lake Huron 1875-1972\n",
    "\n",
    "print df.head(10)"
   ]
  },
  {
   "cell_type": "markdown",
   "metadata": {},
   "source": [
    "##### Key points\n",
    "\n",
    "* We called `pandas` in as `pd`.\n",
    "* We called the `read_csv` function from `pandas`, or as we called it, `pd`. \n",
    "* We named it, `df`, short for dataframe. \n",
    "\n",
    "    > Two-dimensional size-mutable, potentially heterogeneous tabular data structure with labeled axes (rows and columns). Arithmetic operations align on both row and column labels. Can be thought of as a dict-like container for Series objects. The primary pandas data structure [2](http://pandas.pydata.org/pandas-docs/stable/generated/pandas.DataFrame.html)\n",
    "    \n",
    "* We printed the first 10 items in the dataframe `head()`. [Learn more about `head`](http://pandas.pydata.org/pandas-docs/stable/generated/pandas.DataFrame.head.html) and [pandas `tail`](http://pandas.pydata.org/pandas-docs/stable/generated/pandas.DataFrame.tail.html).\n",
    "\n",
    "<img src=\"http://i45.tinypic.com/xmq29s.jpg\" alt=\"panda2\"  width=\"200\">\n",
    "\n",
    "\n",
    "* We can also just call..."
   ]
  },
  {
   "cell_type": "code",
   "execution_count": 47,
   "metadata": {
    "collapsed": false
   },
   "outputs": [
    {
     "data": {
      "text/html": [
       "<div>\n",
       "<table border=\"1\" class=\"dataframe\">\n",
       "  <thead>\n",
       "    <tr style=\"text-align: right;\">\n",
       "      <th></th>\n",
       "      <th>Unnamed: 0</th>\n",
       "      <th>time</th>\n",
       "      <th>LakeHuron</th>\n",
       "    </tr>\n",
       "  </thead>\n",
       "  <tbody>\n",
       "    <tr>\n",
       "      <th>0</th>\n",
       "      <td>1</td>\n",
       "      <td>1875</td>\n",
       "      <td>580.38</td>\n",
       "    </tr>\n",
       "    <tr>\n",
       "      <th>1</th>\n",
       "      <td>2</td>\n",
       "      <td>1876</td>\n",
       "      <td>581.86</td>\n",
       "    </tr>\n",
       "  </tbody>\n",
       "</table>\n",
       "</div>"
      ],
      "text/plain": [
       "   Unnamed: 0  time  LakeHuron\n",
       "0           1  1875     580.38\n",
       "1           2  1876     581.86"
      ]
     },
     "execution_count": 47,
     "metadata": {},
     "output_type": "execute_result"
    }
   ],
   "source": [
    "df.head(2)"
   ]
  },
  {
   "cell_type": "markdown",
   "metadata": {},
   "source": [
    "We can print out all the cols. "
   ]
  },
  {
   "cell_type": "code",
   "execution_count": 48,
   "metadata": {
    "collapsed": false
   },
   "outputs": [
    {
     "name": "stdout",
     "output_type": "stream",
     "text": [
      "Unnamed: 0\n",
      "time\n",
      "LakeHuron\n"
     ]
    }
   ],
   "source": [
    "for i in df.columns:\n",
    "\n",
    "\tprint  i"
   ]
  },
  {
   "cell_type": "markdown",
   "metadata": {},
   "source": [
    "I can set the column names: "
   ]
  },
  {
   "cell_type": "code",
   "execution_count": 49,
   "metadata": {
    "collapsed": false
   },
   "outputs": [],
   "source": [
    "df.columns = ['useless', 'year','lake_level'] #just delcare col names here"
   ]
  },
  {
   "cell_type": "markdown",
   "metadata": {},
   "source": [
    "We can just keep the useful columns:"
   ]
  },
  {
   "cell_type": "code",
   "execution_count": 50,
   "metadata": {
    "collapsed": false
   },
   "outputs": [
    {
     "data": {
      "text/html": [
       "<div>\n",
       "<table border=\"1\" class=\"dataframe\">\n",
       "  <thead>\n",
       "    <tr style=\"text-align: right;\">\n",
       "      <th></th>\n",
       "      <th>year</th>\n",
       "      <th>lake_level</th>\n",
       "    </tr>\n",
       "  </thead>\n",
       "  <tbody>\n",
       "    <tr>\n",
       "      <th>94</th>\n",
       "      <td>1969</td>\n",
       "      <td>579.74</td>\n",
       "    </tr>\n",
       "    <tr>\n",
       "      <th>95</th>\n",
       "      <td>1970</td>\n",
       "      <td>579.31</td>\n",
       "    </tr>\n",
       "    <tr>\n",
       "      <th>96</th>\n",
       "      <td>1971</td>\n",
       "      <td>579.89</td>\n",
       "    </tr>\n",
       "    <tr>\n",
       "      <th>97</th>\n",
       "      <td>1972</td>\n",
       "      <td>579.96</td>\n",
       "    </tr>\n",
       "  </tbody>\n",
       "</table>\n",
       "</div>"
      ],
      "text/plain": [
       "    year  lake_level\n",
       "94  1969      579.74\n",
       "95  1970      579.31\n",
       "96  1971      579.89\n",
       "97  1972      579.96"
      ]
     },
     "execution_count": 50,
     "metadata": {},
     "output_type": "execute_result"
    }
   ],
   "source": [
    "df = df[['year','lake_level']]\n",
    "df.tail(4)"
   ]
  },
  {
   "cell_type": "markdown",
   "metadata": {},
   "source": [
    "I can add a new column and calculate: "
   ]
  },
  {
   "cell_type": "code",
   "execution_count": 51,
   "metadata": {
    "collapsed": false
   },
   "outputs": [
    {
     "data": {
      "text/html": [
       "<div>\n",
       "<table border=\"1\" class=\"dataframe\">\n",
       "  <thead>\n",
       "    <tr style=\"text-align: right;\">\n",
       "      <th></th>\n",
       "      <th>year</th>\n",
       "      <th>lake_level</th>\n",
       "      <th>meaningless_calculation</th>\n",
       "    </tr>\n",
       "  </thead>\n",
       "  <tbody>\n",
       "    <tr>\n",
       "      <th>0</th>\n",
       "      <td>1875</td>\n",
       "      <td>580.38</td>\n",
       "      <td>1088212.50</td>\n",
       "    </tr>\n",
       "    <tr>\n",
       "      <th>1</th>\n",
       "      <td>1876</td>\n",
       "      <td>581.86</td>\n",
       "      <td>1091569.36</td>\n",
       "    </tr>\n",
       "    <tr>\n",
       "      <th>2</th>\n",
       "      <td>1877</td>\n",
       "      <td>580.97</td>\n",
       "      <td>1090480.69</td>\n",
       "    </tr>\n",
       "  </tbody>\n",
       "</table>\n",
       "</div>"
      ],
      "text/plain": [
       "   year  lake_level  meaningless_calculation\n",
       "0  1875      580.38               1088212.50\n",
       "1  1876      581.86               1091569.36\n",
       "2  1877      580.97               1090480.69"
      ]
     },
     "execution_count": 51,
     "metadata": {},
     "output_type": "execute_result"
    }
   ],
   "source": [
    "df['meaningless_calculation'] = df['year'] * df['lake_level']\n",
    "df.head(3)"
   ]
  },
  {
   "cell_type": "markdown",
   "metadata": {},
   "source": [
    "* I can plot"
   ]
  },
  {
   "cell_type": "code",
   "execution_count": 52,
   "metadata": {
    "collapsed": false
   },
   "outputs": [
    {
     "data": {
      "text/plain": [
       "<matplotlib.axes._subplots.AxesSubplot at 0x10e9a4890>"
      ]
     },
     "execution_count": 52,
     "metadata": {},
     "output_type": "execute_result"
    },
    {
     "data": {
      "image/png": "[encoded data removed]",
      "text/plain": [
       "<matplotlib.figure.Figure at 0x10e884c90>"
      ]
     },
     "metadata": {},
     "output_type": "display_data"
    }
   ],
   "source": [
    "import matplotlib #import plotting library\n",
    "%matplotlib inline \n",
    "#shows plot in ipython notebook, ahem, jupyter notebook\n",
    "\n",
    "df = df[['year','lake_level']] #select meaningful columns\n",
    "df = df.set_index('year') #set time as our index (http://pandas.pydata.org/pandas-docs/stable/generated/pandas.DataFrame.set_index.html)\n",
    "\n",
    "df.plot()"
   ]
  },
  {
   "cell_type": "markdown",
   "metadata": {},
   "source": [
    "* And I can do all sorts of useful data carpentry:\n",
    "\n",
    "### Data Carpentry\n",
    "\n",
    "Let's say I have a dataset of latitude/longitude in an excel file with weird formatting"
   ]
  },
  {
   "cell_type": "code",
   "execution_count": 62,
   "metadata": {
    "collapsed": false
   },
   "outputs": [
    {
     "data": {
      "text/html": [
       "<div>\n",
       "<table border=\"1\" class=\"dataframe\">\n",
       "  <thead>\n",
       "    <tr style=\"text-align: right;\">\n",
       "      <th></th>\n",
       "      <th>geo</th>\n",
       "    </tr>\n",
       "  </thead>\n",
       "  <tbody>\n",
       "    <tr>\n",
       "      <th>0</th>\n",
       "      <td>(40.0024 -105.4102)</td>\n",
       "    </tr>\n",
       "    <tr>\n",
       "      <th>1</th>\n",
       "      <td>(40.0068 -105.266)</td>\n",
       "    </tr>\n",
       "    <tr>\n",
       "      <th>2</th>\n",
       "      <td>(39.9318 -105.2813)</td>\n",
       "    </tr>\n",
       "  </tbody>\n",
       "</table>\n",
       "</div>"
      ],
      "text/plain": [
       "                   geo\n",
       "0  (40.0024 -105.4102)\n",
       "1   (40.0068 -105.266)\n",
       "2  (39.9318 -105.2813)"
      ]
     },
     "execution_count": 62,
     "metadata": {},
     "output_type": "execute_result"
    }
   ],
   "source": [
    "raw_data = {'geo': ['(40.0024 -105.4102)', '(40.0068 -105.266)', '(39.9318 -105.2813)']}\n",
    "df = pd.DataFrame(raw_data, columns = ['geo'])\n",
    "df"
   ]
  },
  {
   "cell_type": "code",
   "execution_count": 66,
   "metadata": {
    "collapsed": false
   },
   "outputs": [
    {
     "data": {
      "text/html": [
       "<div>\n",
       "<table border=\"1\" class=\"dataframe\">\n",
       "  <thead>\n",
       "    <tr style=\"text-align: right;\">\n",
       "      <th></th>\n",
       "      <th>geo</th>\n",
       "      <th>latitude</th>\n",
       "      <th>longitude</th>\n",
       "    </tr>\n",
       "  </thead>\n",
       "  <tbody>\n",
       "    <tr>\n",
       "      <th>0</th>\n",
       "      <td>(40.0024 -105.4102)</td>\n",
       "      <td>40.0024</td>\n",
       "      <td>-105.4102</td>\n",
       "    </tr>\n",
       "    <tr>\n",
       "      <th>1</th>\n",
       "      <td>(40.0068 -105.266)</td>\n",
       "      <td>40.0068</td>\n",
       "      <td>-105.266</td>\n",
       "    </tr>\n",
       "    <tr>\n",
       "      <th>2</th>\n",
       "      <td>(39.9318 -105.2813)</td>\n",
       "      <td>39.9318</td>\n",
       "      <td>-105.2813</td>\n",
       "    </tr>\n",
       "  </tbody>\n",
       "</table>\n",
       "</div>"
      ],
      "text/plain": [
       "                   geo latitude  longitude\n",
       "0  (40.0024 -105.4102)  40.0024  -105.4102\n",
       "1   (40.0068 -105.266)  40.0068   -105.266\n",
       "2  (39.9318 -105.2813)  39.9318  -105.2813"
      ]
     },
     "execution_count": 66,
     "metadata": {},
     "output_type": "execute_result"
    }
   ],
   "source": [
    "df['latitude']  = df.geo.str.replace('(','').str.split(' ',1).str[0]\n",
    "df['longitude'] = df.geo.str.replace(')','').str.split(' ',1).str[1]\n",
    "df"
   ]
  },
  {
   "cell_type": "code",
   "execution_count": 78,
   "metadata": {
    "collapsed": false
   },
   "outputs": [
    {
     "name": "stdout",
     "output_type": "stream",
     "text": [
      "                         date  value\n",
      "0  2014-05-01 18:47:05.069722      1\n",
      "1  2014-05-01 18:47:05.119994      1\n",
      "2  2014-05-02 18:47:05.178768      1\n",
      "3  2014-05-02 18:47:05.230071      1\n",
      "4  2014-05-02 18:47:05.230071      1\n",
      "5  2014-05-02 18:47:05.280592      1\n",
      "6  2014-05-03 18:47:05.332662      1\n",
      "7  2014-05-03 18:47:05.385109      1\n",
      "8  2014-05-04 18:47:05.436523      1\n",
      "9  2014-05-04 18:47:05.486877      1\n"
     ]
    }
   ],
   "source": [
    "data = {'date': ['2014-05-01 18:47:05.069722', '2014-05-01 18:47:05.119994', '2014-05-02 18:47:05.178768', '2014-05-02 18:47:05.230071', '2014-05-02 18:47:05.230071', '2014-05-02 18:47:05.280592', '2014-05-03 18:47:05.332662', '2014-05-03 18:47:05.385109', '2014-05-04 18:47:05.436523', '2014-05-04 18:47:05.486877'],\n",
    "        'value': [1, 1, 1, 1, 1, 1, 1, 1, 1, 1]}\n",
    "dfTime = pd.DataFrame(data, columns = ['date', 'value'])\n",
    "print(dfTime)"
   ]
  },
  {
   "cell_type": "markdown",
   "metadata": {},
   "source": [
    "# Extract Time Information with Ease"
   ]
  },
  {
   "cell_type": "code",
   "execution_count": 92,
   "metadata": {
    "collapsed": false
   },
   "outputs": [
    {
     "data": {
      "text/html": [
       "<div>\n",
       "<table border=\"1\" class=\"dataframe\">\n",
       "  <thead>\n",
       "    <tr style=\"text-align: right;\">\n",
       "      <th></th>\n",
       "      <th>date</th>\n",
       "      <th>value</th>\n",
       "      <th>year</th>\n",
       "      <th>month</th>\n",
       "      <th>minute</th>\n",
       "      <th>second</th>\n",
       "      <th>microsecond</th>\n",
       "    </tr>\n",
       "  </thead>\n",
       "  <tbody>\n",
       "    <tr>\n",
       "      <th>0</th>\n",
       "      <td>2014-05-01 18:47:05.069722</td>\n",
       "      <td>1</td>\n",
       "      <td>2014</td>\n",
       "      <td>5</td>\n",
       "      <td>47</td>\n",
       "      <td>5</td>\n",
       "      <td>69722</td>\n",
       "    </tr>\n",
       "    <tr>\n",
       "      <th>1</th>\n",
       "      <td>2014-05-01 18:47:05.119994</td>\n",
       "      <td>1</td>\n",
       "      <td>2014</td>\n",
       "      <td>5</td>\n",
       "      <td>47</td>\n",
       "      <td>5</td>\n",
       "      <td>119994</td>\n",
       "    </tr>\n",
       "    <tr>\n",
       "      <th>2</th>\n",
       "      <td>2014-05-02 18:47:05.178768</td>\n",
       "      <td>1</td>\n",
       "      <td>2014</td>\n",
       "      <td>5</td>\n",
       "      <td>47</td>\n",
       "      <td>5</td>\n",
       "      <td>178768</td>\n",
       "    </tr>\n",
       "    <tr>\n",
       "      <th>3</th>\n",
       "      <td>2014-05-02 18:47:05.230071</td>\n",
       "      <td>1</td>\n",
       "      <td>2014</td>\n",
       "      <td>5</td>\n",
       "      <td>47</td>\n",
       "      <td>5</td>\n",
       "      <td>230071</td>\n",
       "    </tr>\n",
       "    <tr>\n",
       "      <th>4</th>\n",
       "      <td>2014-05-02 18:47:05.230071</td>\n",
       "      <td>1</td>\n",
       "      <td>2014</td>\n",
       "      <td>5</td>\n",
       "      <td>47</td>\n",
       "      <td>5</td>\n",
       "      <td>230071</td>\n",
       "    </tr>\n",
       "  </tbody>\n",
       "</table>\n",
       "</div>"
      ],
      "text/plain": [
       "                         date  value  year  month  minute  second  microsecond\n",
       "0  2014-05-01 18:47:05.069722      1  2014      5      47       5        69722\n",
       "1  2014-05-01 18:47:05.119994      1  2014      5      47       5       119994\n",
       "2  2014-05-02 18:47:05.178768      1  2014      5      47       5       178768\n",
       "3  2014-05-02 18:47:05.230071      1  2014      5      47       5       230071\n",
       "4  2014-05-02 18:47:05.230071      1  2014      5      47       5       230071"
      ]
     },
     "execution_count": 92,
     "metadata": {},
     "output_type": "execute_result"
    }
   ],
   "source": [
    "import datetime as dt\n",
    "\n",
    "dfTime['year'] = pd.DatetimeIndex(dfTime['date']).year\n",
    "dfTime['month'] = pd.DatetimeIndex(dfTime['date']).month\n",
    "dfTime['minute'] = pd.DatetimeIndex(dfTime['date']).minute\n",
    "dfTime['second'] = pd.DatetimeIndex(dfTime['date']).second\n",
    "dfTime['microsecond'] = pd.DatetimeIndex(dfTime['date']).microsecond\n",
    "\n",
    "dfTime.head(5)"
   ]
  },
  {
   "cell_type": "markdown",
   "metadata": {},
   "source": [
    "# String stuff\n",
    "You can split text and do lots of other cool stuff for **Geocoding**:\n",
    "\n",
    "    df_trim['hn_rnd2'] = df_trim.MATCH_ADDR.str.split(' ',1).str[0]\n",
    "    df_trim['street_rnd2'] = (df_trim.MATCH_ADDR.str.split(',',1).str[0]).str.split(' ',1).str[1]\n",
    "\n",
    "<img src=\"https://raw.githubusercontent.com/nygeog/pandas/master/split_text.png\" alt=\"panda1\"  width=\"500\">"
   ]
  },
  {
   "cell_type": "markdown",
   "metadata": {},
   "source": [
    "### Read Excel Files"
   ]
  },
  {
   "cell_type": "code",
   "execution_count": 97,
   "metadata": {
    "collapsed": false
   },
   "outputs": [
    {
     "data": {
      "text/html": [
       "<div>\n",
       "<table border=\"1\" class=\"dataframe\">\n",
       "  <thead>\n",
       "    <tr style=\"text-align: right;\">\n",
       "      <th></th>\n",
       "      <th>LatFID100m</th>\n",
       "      <th>X</th>\n",
       "      <th>Y</th>\n",
       "      <th>pm25_pred</th>\n",
       "      <th>BC_pred</th>\n",
       "    </tr>\n",
       "  </thead>\n",
       "  <tbody>\n",
       "    <tr>\n",
       "      <th>0</th>\n",
       "      <td>0</td>\n",
       "      <td>913307.305467</td>\n",
       "      <td>122566.653315</td>\n",
       "      <td>8.484980</td>\n",
       "      <td>0.551929</td>\n",
       "    </tr>\n",
       "    <tr>\n",
       "      <th>1</th>\n",
       "      <td>1</td>\n",
       "      <td>913307.305467</td>\n",
       "      <td>122894.737305</td>\n",
       "      <td>8.495016</td>\n",
       "      <td>0.561231</td>\n",
       "    </tr>\n",
       "    <tr>\n",
       "      <th>2</th>\n",
       "      <td>2</td>\n",
       "      <td>913307.305467</td>\n",
       "      <td>123222.821295</td>\n",
       "      <td>8.502362</td>\n",
       "      <td>0.575938</td>\n",
       "    </tr>\n",
       "    <tr>\n",
       "      <th>3</th>\n",
       "      <td>3</td>\n",
       "      <td>913307.305467</td>\n",
       "      <td>123550.905285</td>\n",
       "      <td>8.511036</td>\n",
       "      <td>0.608038</td>\n",
       "    </tr>\n",
       "    <tr>\n",
       "      <th>4</th>\n",
       "      <td>4</td>\n",
       "      <td>913307.305467</td>\n",
       "      <td>123878.989275</td>\n",
       "      <td>8.512623</td>\n",
       "      <td>0.632093</td>\n",
       "    </tr>\n",
       "    <tr>\n",
       "      <th>5</th>\n",
       "      <td>5</td>\n",
       "      <td>913307.305467</td>\n",
       "      <td>124207.073265</td>\n",
       "      <td>8.809112</td>\n",
       "      <td>0.620156</td>\n",
       "    </tr>\n",
       "    <tr>\n",
       "      <th>6</th>\n",
       "      <td>6</td>\n",
       "      <td>913307.305467</td>\n",
       "      <td>124535.157255</td>\n",
       "      <td>8.699340</td>\n",
       "      <td>0.610595</td>\n",
       "    </tr>\n",
       "    <tr>\n",
       "      <th>7</th>\n",
       "      <td>7</td>\n",
       "      <td>913307.305467</td>\n",
       "      <td>124863.241245</td>\n",
       "      <td>8.508260</td>\n",
       "      <td>0.584737</td>\n",
       "    </tr>\n",
       "    <tr>\n",
       "      <th>8</th>\n",
       "      <td>8</td>\n",
       "      <td>913635.389457</td>\n",
       "      <td>121910.485335</td>\n",
       "      <td>8.474316</td>\n",
       "      <td>0.547620</td>\n",
       "    </tr>\n",
       "    <tr>\n",
       "      <th>9</th>\n",
       "      <td>9</td>\n",
       "      <td>913635.389457</td>\n",
       "      <td>122238.569325</td>\n",
       "      <td>8.485680</td>\n",
       "      <td>0.570862</td>\n",
       "    </tr>\n",
       "  </tbody>\n",
       "</table>\n",
       "</div>"
      ],
      "text/plain": [
       "   LatFID100m              X              Y  pm25_pred   BC_pred\n",
       "0           0  913307.305467  122566.653315   8.484980  0.551929\n",
       "1           1  913307.305467  122894.737305   8.495016  0.561231\n",
       "2           2  913307.305467  123222.821295   8.502362  0.575938\n",
       "3           3  913307.305467  123550.905285   8.511036  0.608038\n",
       "4           4  913307.305467  123878.989275   8.512623  0.632093\n",
       "5           5  913307.305467  124207.073265   8.809112  0.620156\n",
       "6           6  913307.305467  124535.157255   8.699340  0.610595\n",
       "7           7  913307.305467  124863.241245   8.508260  0.584737\n",
       "8           8  913635.389457  121910.485335   8.474316  0.547620\n",
       "9           9  913635.389457  122238.569325   8.485680  0.570862"
      ]
     },
     "execution_count": 97,
     "metadata": {},
     "output_type": "execute_result"
    }
   ],
   "source": [
    "inXLS = 'PM25_BC_2yr_Avg.xlsx' # you don't have this file :( \n",
    "sheetName = 'PM25_BC_2yr_Avg'\n",
    "\n",
    "dfExcel = pd.io.excel.read_excel(inXLS, sheetName) #you may have to: sudo pip install xlrd\n",
    "\n",
    "dfExcel.head(10)"
   ]
  },
  {
   "cell_type": "markdown",
   "metadata": {},
   "source": [
    "# Exporting Data\n",
    "Generally, you may want to export to csv. "
   ]
  },
  {
   "cell_type": "code",
   "execution_count": 95,
   "metadata": {
    "collapsed": false
   },
   "outputs": [],
   "source": [
    "df.to_csv('data.csv',index=False)"
   ]
  },
  {
   "cell_type": "markdown",
   "metadata": {},
   "source": [
    "# Resources\n",
    "\n",
    "* [Pandas](http://pandas.pydata.org/)\n",
    "* [Chris Albon - Data Science for Political and Social Phenomena](http://chrisalbon.com/)\n",
    "* [Python for Data Analysis](http://shop.oreilly.com/product/0636920023784.do)\n",
    "* [Some of my Pandas Reference](https://github.com/nygeog/pandas)\n",
    "\n"
   ]
  },
  {
   "cell_type": "code",
   "execution_count": null,
   "metadata": {
    "collapsed": true
   },
   "outputs": [],
   "source": []
  }
 ],
 "metadata": {
  "kernelspec": {
   "display_name": "Python 2",
   "language": "python",
   "name": "python2"
  },
  "language_info": {
   "codemirror_mode": {
    "name": "ipython",
    "version": 2
   },
   "file_extension": ".py",
   "mimetype": "text/x-python",
   "name": "python",
   "nbconvert_exporter": "python",
   "pygments_lexer": "ipython2",
   "version": "2.7.10"
  }
 },
 "nbformat": 4,
 "nbformat_minor": 0
}
